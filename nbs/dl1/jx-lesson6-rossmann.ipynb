{
 "cells": [
  {
   "cell_type": "code",
   "execution_count": 43,
   "metadata": {},
   "outputs": [],
   "source": [
    "%reload_ext autoreload\n",
    "%autoreload 2"
   ]
  },
  {
   "cell_type": "code",
   "execution_count": 2,
   "metadata": {},
   "outputs": [],
   "source": [
    "from fastai.tabular import *"
   ]
  },
  {
   "cell_type": "markdown",
   "metadata": {},
   "source": [
    "# Rossmann"
   ]
  },
  {
   "cell_type": "markdown",
   "metadata": {},
   "source": [
    "## Data preparation"
   ]
  },
  {
   "cell_type": "markdown",
   "metadata": {},
   "source": [
    "To create the feature-engineered train_clean and test_clean from the Kaggle competition data, run `rossman_data_clean.ipynb`. One important step that deals with time series is this:\n",
    "\n",
    "```python\n",
    "add_datepart(train, \"Date\", drop=False)\n",
    "add_datepart(test, \"Date\", drop=False)\n",
    "```"
   ]
  },
  {
   "cell_type": "code",
   "execution_count": 3,
   "metadata": {},
   "outputs": [],
   "source": [
    "path = Config().data_path()/'rossmann'\n",
    "train_df = pd.read_pickle(path/'train_clean')"
   ]
  },
  {
   "cell_type": "code",
   "execution_count": 4,
   "metadata": {},
   "outputs": [
    {
     "data": {
      "text/html": [
       "<div>\n",
       "<style scoped>\n",
       "    .dataframe tbody tr th:only-of-type {\n",
       "        vertical-align: middle;\n",
       "    }\n",
       "\n",
       "    .dataframe tbody tr th {\n",
       "        vertical-align: top;\n",
       "    }\n",
       "\n",
       "    .dataframe thead th {\n",
       "        text-align: right;\n",
       "    }\n",
       "</style>\n",
       "<table border=\"1\" class=\"dataframe\">\n",
       "  <thead>\n",
       "    <tr style=\"text-align: right;\">\n",
       "      <th></th>\n",
       "      <th>0</th>\n",
       "      <th>1</th>\n",
       "      <th>2</th>\n",
       "      <th>3</th>\n",
       "      <th>4</th>\n",
       "    </tr>\n",
       "  </thead>\n",
       "  <tbody>\n",
       "    <tr>\n",
       "      <th>index</th>\n",
       "      <td>0</td>\n",
       "      <td>1</td>\n",
       "      <td>2</td>\n",
       "      <td>3</td>\n",
       "      <td>4</td>\n",
       "    </tr>\n",
       "    <tr>\n",
       "      <th>Store</th>\n",
       "      <td>1</td>\n",
       "      <td>2</td>\n",
       "      <td>3</td>\n",
       "      <td>4</td>\n",
       "      <td>5</td>\n",
       "    </tr>\n",
       "    <tr>\n",
       "      <th>DayOfWeek</th>\n",
       "      <td>5</td>\n",
       "      <td>5</td>\n",
       "      <td>5</td>\n",
       "      <td>5</td>\n",
       "      <td>5</td>\n",
       "    </tr>\n",
       "    <tr>\n",
       "      <th>Date</th>\n",
       "      <td>2015-07-31 00:00:00</td>\n",
       "      <td>2015-07-31 00:00:00</td>\n",
       "      <td>2015-07-31 00:00:00</td>\n",
       "      <td>2015-07-31 00:00:00</td>\n",
       "      <td>2015-07-31 00:00:00</td>\n",
       "    </tr>\n",
       "    <tr>\n",
       "      <th>Sales</th>\n",
       "      <td>5263</td>\n",
       "      <td>6064</td>\n",
       "      <td>8314</td>\n",
       "      <td>13995</td>\n",
       "      <td>4822</td>\n",
       "    </tr>\n",
       "    <tr>\n",
       "      <th>Customers</th>\n",
       "      <td>555</td>\n",
       "      <td>625</td>\n",
       "      <td>821</td>\n",
       "      <td>1498</td>\n",
       "      <td>559</td>\n",
       "    </tr>\n",
       "    <tr>\n",
       "      <th>Open</th>\n",
       "      <td>1</td>\n",
       "      <td>1</td>\n",
       "      <td>1</td>\n",
       "      <td>1</td>\n",
       "      <td>1</td>\n",
       "    </tr>\n",
       "    <tr>\n",
       "      <th>Promo</th>\n",
       "      <td>1</td>\n",
       "      <td>1</td>\n",
       "      <td>1</td>\n",
       "      <td>1</td>\n",
       "      <td>1</td>\n",
       "    </tr>\n",
       "    <tr>\n",
       "      <th>StateHoliday</th>\n",
       "      <td>False</td>\n",
       "      <td>False</td>\n",
       "      <td>False</td>\n",
       "      <td>False</td>\n",
       "      <td>False</td>\n",
       "    </tr>\n",
       "    <tr>\n",
       "      <th>SchoolHoliday</th>\n",
       "      <td>1</td>\n",
       "      <td>1</td>\n",
       "      <td>1</td>\n",
       "      <td>1</td>\n",
       "      <td>1</td>\n",
       "    </tr>\n",
       "    <tr>\n",
       "      <th>Year</th>\n",
       "      <td>2015</td>\n",
       "      <td>2015</td>\n",
       "      <td>2015</td>\n",
       "      <td>2015</td>\n",
       "      <td>2015</td>\n",
       "    </tr>\n",
       "    <tr>\n",
       "      <th>Month</th>\n",
       "      <td>7</td>\n",
       "      <td>7</td>\n",
       "      <td>7</td>\n",
       "      <td>7</td>\n",
       "      <td>7</td>\n",
       "    </tr>\n",
       "    <tr>\n",
       "      <th>Week</th>\n",
       "      <td>31</td>\n",
       "      <td>31</td>\n",
       "      <td>31</td>\n",
       "      <td>31</td>\n",
       "      <td>31</td>\n",
       "    </tr>\n",
       "    <tr>\n",
       "      <th>Day</th>\n",
       "      <td>31</td>\n",
       "      <td>31</td>\n",
       "      <td>31</td>\n",
       "      <td>31</td>\n",
       "      <td>31</td>\n",
       "    </tr>\n",
       "    <tr>\n",
       "      <th>Dayofweek</th>\n",
       "      <td>4</td>\n",
       "      <td>4</td>\n",
       "      <td>4</td>\n",
       "      <td>4</td>\n",
       "      <td>4</td>\n",
       "    </tr>\n",
       "    <tr>\n",
       "      <th>Dayofyear</th>\n",
       "      <td>212</td>\n",
       "      <td>212</td>\n",
       "      <td>212</td>\n",
       "      <td>212</td>\n",
       "      <td>212</td>\n",
       "    </tr>\n",
       "    <tr>\n",
       "      <th>Is_month_end</th>\n",
       "      <td>True</td>\n",
       "      <td>True</td>\n",
       "      <td>True</td>\n",
       "      <td>True</td>\n",
       "      <td>True</td>\n",
       "    </tr>\n",
       "    <tr>\n",
       "      <th>Is_month_start</th>\n",
       "      <td>False</td>\n",
       "      <td>False</td>\n",
       "      <td>False</td>\n",
       "      <td>False</td>\n",
       "      <td>False</td>\n",
       "    </tr>\n",
       "    <tr>\n",
       "      <th>Is_quarter_end</th>\n",
       "      <td>False</td>\n",
       "      <td>False</td>\n",
       "      <td>False</td>\n",
       "      <td>False</td>\n",
       "      <td>False</td>\n",
       "    </tr>\n",
       "    <tr>\n",
       "      <th>Is_quarter_start</th>\n",
       "      <td>False</td>\n",
       "      <td>False</td>\n",
       "      <td>False</td>\n",
       "      <td>False</td>\n",
       "      <td>False</td>\n",
       "    </tr>\n",
       "    <tr>\n",
       "      <th>Is_year_end</th>\n",
       "      <td>False</td>\n",
       "      <td>False</td>\n",
       "      <td>False</td>\n",
       "      <td>False</td>\n",
       "      <td>False</td>\n",
       "    </tr>\n",
       "    <tr>\n",
       "      <th>Is_year_start</th>\n",
       "      <td>False</td>\n",
       "      <td>False</td>\n",
       "      <td>False</td>\n",
       "      <td>False</td>\n",
       "      <td>False</td>\n",
       "    </tr>\n",
       "    <tr>\n",
       "      <th>Elapsed</th>\n",
       "      <td>1438300800</td>\n",
       "      <td>1438300800</td>\n",
       "      <td>1438300800</td>\n",
       "      <td>1438300800</td>\n",
       "      <td>1438300800</td>\n",
       "    </tr>\n",
       "    <tr>\n",
       "      <th>StoreType</th>\n",
       "      <td>c</td>\n",
       "      <td>a</td>\n",
       "      <td>a</td>\n",
       "      <td>c</td>\n",
       "      <td>a</td>\n",
       "    </tr>\n",
       "    <tr>\n",
       "      <th>Assortment</th>\n",
       "      <td>a</td>\n",
       "      <td>a</td>\n",
       "      <td>a</td>\n",
       "      <td>c</td>\n",
       "      <td>a</td>\n",
       "    </tr>\n",
       "    <tr>\n",
       "      <th>CompetitionDistance</th>\n",
       "      <td>1270</td>\n",
       "      <td>570</td>\n",
       "      <td>14130</td>\n",
       "      <td>620</td>\n",
       "      <td>29910</td>\n",
       "    </tr>\n",
       "    <tr>\n",
       "      <th>CompetitionOpenSinceMonth</th>\n",
       "      <td>9</td>\n",
       "      <td>11</td>\n",
       "      <td>12</td>\n",
       "      <td>9</td>\n",
       "      <td>4</td>\n",
       "    </tr>\n",
       "    <tr>\n",
       "      <th>CompetitionOpenSinceYear</th>\n",
       "      <td>2008</td>\n",
       "      <td>2007</td>\n",
       "      <td>2006</td>\n",
       "      <td>2009</td>\n",
       "      <td>2015</td>\n",
       "    </tr>\n",
       "    <tr>\n",
       "      <th>Promo2</th>\n",
       "      <td>0</td>\n",
       "      <td>1</td>\n",
       "      <td>1</td>\n",
       "      <td>0</td>\n",
       "      <td>0</td>\n",
       "    </tr>\n",
       "    <tr>\n",
       "      <th>Promo2SinceWeek</th>\n",
       "      <td>1</td>\n",
       "      <td>13</td>\n",
       "      <td>14</td>\n",
       "      <td>1</td>\n",
       "      <td>1</td>\n",
       "    </tr>\n",
       "    <tr>\n",
       "      <th>...</th>\n",
       "      <td>...</td>\n",
       "      <td>...</td>\n",
       "      <td>...</td>\n",
       "      <td>...</td>\n",
       "      <td>...</td>\n",
       "    </tr>\n",
       "    <tr>\n",
       "      <th>Min_Sea_Level_PressurehPa</th>\n",
       "      <td>1015</td>\n",
       "      <td>1017</td>\n",
       "      <td>1017</td>\n",
       "      <td>1014</td>\n",
       "      <td>1016</td>\n",
       "    </tr>\n",
       "    <tr>\n",
       "      <th>Max_VisibilityKm</th>\n",
       "      <td>31</td>\n",
       "      <td>10</td>\n",
       "      <td>31</td>\n",
       "      <td>10</td>\n",
       "      <td>10</td>\n",
       "    </tr>\n",
       "    <tr>\n",
       "      <th>Mean_VisibilityKm</th>\n",
       "      <td>15</td>\n",
       "      <td>10</td>\n",
       "      <td>14</td>\n",
       "      <td>10</td>\n",
       "      <td>10</td>\n",
       "    </tr>\n",
       "    <tr>\n",
       "      <th>Min_VisibilitykM</th>\n",
       "      <td>10</td>\n",
       "      <td>10</td>\n",
       "      <td>10</td>\n",
       "      <td>10</td>\n",
       "      <td>10</td>\n",
       "    </tr>\n",
       "    <tr>\n",
       "      <th>Max_Wind_SpeedKm_h</th>\n",
       "      <td>24</td>\n",
       "      <td>14</td>\n",
       "      <td>14</td>\n",
       "      <td>23</td>\n",
       "      <td>14</td>\n",
       "    </tr>\n",
       "    <tr>\n",
       "      <th>Mean_Wind_SpeedKm_h</th>\n",
       "      <td>11</td>\n",
       "      <td>11</td>\n",
       "      <td>5</td>\n",
       "      <td>16</td>\n",
       "      <td>11</td>\n",
       "    </tr>\n",
       "    <tr>\n",
       "      <th>Max_Gust_SpeedKm_h</th>\n",
       "      <td>NaN</td>\n",
       "      <td>NaN</td>\n",
       "      <td>NaN</td>\n",
       "      <td>NaN</td>\n",
       "      <td>NaN</td>\n",
       "    </tr>\n",
       "    <tr>\n",
       "      <th>Precipitationmm</th>\n",
       "      <td>0</td>\n",
       "      <td>0</td>\n",
       "      <td>0</td>\n",
       "      <td>0</td>\n",
       "      <td>0</td>\n",
       "    </tr>\n",
       "    <tr>\n",
       "      <th>CloudCover</th>\n",
       "      <td>1</td>\n",
       "      <td>4</td>\n",
       "      <td>2</td>\n",
       "      <td>6</td>\n",
       "      <td>4</td>\n",
       "    </tr>\n",
       "    <tr>\n",
       "      <th>Events</th>\n",
       "      <td>Fog</td>\n",
       "      <td>Fog</td>\n",
       "      <td>Fog</td>\n",
       "      <td>NaN</td>\n",
       "      <td>NaN</td>\n",
       "    </tr>\n",
       "    <tr>\n",
       "      <th>WindDirDegrees</th>\n",
       "      <td>13</td>\n",
       "      <td>309</td>\n",
       "      <td>354</td>\n",
       "      <td>282</td>\n",
       "      <td>290</td>\n",
       "    </tr>\n",
       "    <tr>\n",
       "      <th>StateName</th>\n",
       "      <td>Hessen</td>\n",
       "      <td>Thueringen</td>\n",
       "      <td>NordrheinWestfalen</td>\n",
       "      <td>Berlin</td>\n",
       "      <td>Sachsen</td>\n",
       "    </tr>\n",
       "    <tr>\n",
       "      <th>CompetitionOpenSince</th>\n",
       "      <td>2008-09-15 00:00:00</td>\n",
       "      <td>2007-11-15 00:00:00</td>\n",
       "      <td>2006-12-15 00:00:00</td>\n",
       "      <td>2009-09-15 00:00:00</td>\n",
       "      <td>2015-04-15 00:00:00</td>\n",
       "    </tr>\n",
       "    <tr>\n",
       "      <th>CompetitionDaysOpen</th>\n",
       "      <td>2510</td>\n",
       "      <td>2815</td>\n",
       "      <td>3150</td>\n",
       "      <td>2145</td>\n",
       "      <td>107</td>\n",
       "    </tr>\n",
       "    <tr>\n",
       "      <th>CompetitionMonthsOpen</th>\n",
       "      <td>24</td>\n",
       "      <td>24</td>\n",
       "      <td>24</td>\n",
       "      <td>24</td>\n",
       "      <td>3</td>\n",
       "    </tr>\n",
       "    <tr>\n",
       "      <th>Promo2Since</th>\n",
       "      <td>1900-01-01 00:00:00</td>\n",
       "      <td>2010-03-29 00:00:00</td>\n",
       "      <td>2011-04-04 00:00:00</td>\n",
       "      <td>1900-01-01 00:00:00</td>\n",
       "      <td>1900-01-01 00:00:00</td>\n",
       "    </tr>\n",
       "    <tr>\n",
       "      <th>Promo2Days</th>\n",
       "      <td>0</td>\n",
       "      <td>1950</td>\n",
       "      <td>1579</td>\n",
       "      <td>0</td>\n",
       "      <td>0</td>\n",
       "    </tr>\n",
       "    <tr>\n",
       "      <th>Promo2Weeks</th>\n",
       "      <td>0</td>\n",
       "      <td>25</td>\n",
       "      <td>25</td>\n",
       "      <td>0</td>\n",
       "      <td>0</td>\n",
       "    </tr>\n",
       "    <tr>\n",
       "      <th>AfterSchoolHoliday</th>\n",
       "      <td>0</td>\n",
       "      <td>0</td>\n",
       "      <td>0</td>\n",
       "      <td>0</td>\n",
       "      <td>0</td>\n",
       "    </tr>\n",
       "    <tr>\n",
       "      <th>BeforeSchoolHoliday</th>\n",
       "      <td>0</td>\n",
       "      <td>0</td>\n",
       "      <td>0</td>\n",
       "      <td>0</td>\n",
       "      <td>0</td>\n",
       "    </tr>\n",
       "    <tr>\n",
       "      <th>AfterStateHoliday</th>\n",
       "      <td>57</td>\n",
       "      <td>67</td>\n",
       "      <td>57</td>\n",
       "      <td>67</td>\n",
       "      <td>57</td>\n",
       "    </tr>\n",
       "    <tr>\n",
       "      <th>BeforeStateHoliday</th>\n",
       "      <td>0</td>\n",
       "      <td>0</td>\n",
       "      <td>0</td>\n",
       "      <td>0</td>\n",
       "      <td>0</td>\n",
       "    </tr>\n",
       "    <tr>\n",
       "      <th>AfterPromo</th>\n",
       "      <td>0</td>\n",
       "      <td>0</td>\n",
       "      <td>0</td>\n",
       "      <td>0</td>\n",
       "      <td>0</td>\n",
       "    </tr>\n",
       "    <tr>\n",
       "      <th>BeforePromo</th>\n",
       "      <td>0</td>\n",
       "      <td>0</td>\n",
       "      <td>0</td>\n",
       "      <td>0</td>\n",
       "      <td>0</td>\n",
       "    </tr>\n",
       "    <tr>\n",
       "      <th>SchoolHoliday_bw</th>\n",
       "      <td>5</td>\n",
       "      <td>5</td>\n",
       "      <td>5</td>\n",
       "      <td>5</td>\n",
       "      <td>5</td>\n",
       "    </tr>\n",
       "    <tr>\n",
       "      <th>StateHoliday_bw</th>\n",
       "      <td>0</td>\n",
       "      <td>0</td>\n",
       "      <td>0</td>\n",
       "      <td>0</td>\n",
       "      <td>0</td>\n",
       "    </tr>\n",
       "    <tr>\n",
       "      <th>Promo_bw</th>\n",
       "      <td>5</td>\n",
       "      <td>5</td>\n",
       "      <td>5</td>\n",
       "      <td>5</td>\n",
       "      <td>5</td>\n",
       "    </tr>\n",
       "    <tr>\n",
       "      <th>SchoolHoliday_fw</th>\n",
       "      <td>7</td>\n",
       "      <td>1</td>\n",
       "      <td>5</td>\n",
       "      <td>1</td>\n",
       "      <td>1</td>\n",
       "    </tr>\n",
       "    <tr>\n",
       "      <th>StateHoliday_fw</th>\n",
       "      <td>0</td>\n",
       "      <td>0</td>\n",
       "      <td>0</td>\n",
       "      <td>0</td>\n",
       "      <td>0</td>\n",
       "    </tr>\n",
       "    <tr>\n",
       "      <th>Promo_fw</th>\n",
       "      <td>5</td>\n",
       "      <td>1</td>\n",
       "      <td>5</td>\n",
       "      <td>1</td>\n",
       "      <td>1</td>\n",
       "    </tr>\n",
       "  </tbody>\n",
       "</table>\n",
       "<p>93 rows × 5 columns</p>\n",
       "</div>"
      ],
      "text/plain": [
       "                                             0                    1  \\\n",
       "index                                        0                    1   \n",
       "Store                                        1                    2   \n",
       "DayOfWeek                                    5                    5   \n",
       "Date                       2015-07-31 00:00:00  2015-07-31 00:00:00   \n",
       "Sales                                     5263                 6064   \n",
       "Customers                                  555                  625   \n",
       "Open                                         1                    1   \n",
       "Promo                                        1                    1   \n",
       "StateHoliday                             False                False   \n",
       "SchoolHoliday                                1                    1   \n",
       "Year                                      2015                 2015   \n",
       "Month                                        7                    7   \n",
       "Week                                        31                   31   \n",
       "Day                                         31                   31   \n",
       "Dayofweek                                    4                    4   \n",
       "Dayofyear                                  212                  212   \n",
       "Is_month_end                              True                 True   \n",
       "Is_month_start                           False                False   \n",
       "Is_quarter_end                           False                False   \n",
       "Is_quarter_start                         False                False   \n",
       "Is_year_end                              False                False   \n",
       "Is_year_start                            False                False   \n",
       "Elapsed                             1438300800           1438300800   \n",
       "StoreType                                    c                    a   \n",
       "Assortment                                   a                    a   \n",
       "CompetitionDistance                       1270                  570   \n",
       "CompetitionOpenSinceMonth                    9                   11   \n",
       "CompetitionOpenSinceYear                  2008                 2007   \n",
       "Promo2                                       0                    1   \n",
       "Promo2SinceWeek                              1                   13   \n",
       "...                                        ...                  ...   \n",
       "Min_Sea_Level_PressurehPa                 1015                 1017   \n",
       "Max_VisibilityKm                            31                   10   \n",
       "Mean_VisibilityKm                           15                   10   \n",
       "Min_VisibilitykM                            10                   10   \n",
       "Max_Wind_SpeedKm_h                          24                   14   \n",
       "Mean_Wind_SpeedKm_h                         11                   11   \n",
       "Max_Gust_SpeedKm_h                         NaN                  NaN   \n",
       "Precipitationmm                              0                    0   \n",
       "CloudCover                                   1                    4   \n",
       "Events                                     Fog                  Fog   \n",
       "WindDirDegrees                              13                  309   \n",
       "StateName                               Hessen           Thueringen   \n",
       "CompetitionOpenSince       2008-09-15 00:00:00  2007-11-15 00:00:00   \n",
       "CompetitionDaysOpen                       2510                 2815   \n",
       "CompetitionMonthsOpen                       24                   24   \n",
       "Promo2Since                1900-01-01 00:00:00  2010-03-29 00:00:00   \n",
       "Promo2Days                                   0                 1950   \n",
       "Promo2Weeks                                  0                   25   \n",
       "AfterSchoolHoliday                           0                    0   \n",
       "BeforeSchoolHoliday                          0                    0   \n",
       "AfterStateHoliday                           57                   67   \n",
       "BeforeStateHoliday                           0                    0   \n",
       "AfterPromo                                   0                    0   \n",
       "BeforePromo                                  0                    0   \n",
       "SchoolHoliday_bw                             5                    5   \n",
       "StateHoliday_bw                              0                    0   \n",
       "Promo_bw                                     5                    5   \n",
       "SchoolHoliday_fw                             7                    1   \n",
       "StateHoliday_fw                              0                    0   \n",
       "Promo_fw                                     5                    1   \n",
       "\n",
       "                                             2                    3  \\\n",
       "index                                        2                    3   \n",
       "Store                                        3                    4   \n",
       "DayOfWeek                                    5                    5   \n",
       "Date                       2015-07-31 00:00:00  2015-07-31 00:00:00   \n",
       "Sales                                     8314                13995   \n",
       "Customers                                  821                 1498   \n",
       "Open                                         1                    1   \n",
       "Promo                                        1                    1   \n",
       "StateHoliday                             False                False   \n",
       "SchoolHoliday                                1                    1   \n",
       "Year                                      2015                 2015   \n",
       "Month                                        7                    7   \n",
       "Week                                        31                   31   \n",
       "Day                                         31                   31   \n",
       "Dayofweek                                    4                    4   \n",
       "Dayofyear                                  212                  212   \n",
       "Is_month_end                              True                 True   \n",
       "Is_month_start                           False                False   \n",
       "Is_quarter_end                           False                False   \n",
       "Is_quarter_start                         False                False   \n",
       "Is_year_end                              False                False   \n",
       "Is_year_start                            False                False   \n",
       "Elapsed                             1438300800           1438300800   \n",
       "StoreType                                    a                    c   \n",
       "Assortment                                   a                    c   \n",
       "CompetitionDistance                      14130                  620   \n",
       "CompetitionOpenSinceMonth                   12                    9   \n",
       "CompetitionOpenSinceYear                  2006                 2009   \n",
       "Promo2                                       1                    0   \n",
       "Promo2SinceWeek                             14                    1   \n",
       "...                                        ...                  ...   \n",
       "Min_Sea_Level_PressurehPa                 1017                 1014   \n",
       "Max_VisibilityKm                            31                   10   \n",
       "Mean_VisibilityKm                           14                   10   \n",
       "Min_VisibilitykM                            10                   10   \n",
       "Max_Wind_SpeedKm_h                          14                   23   \n",
       "Mean_Wind_SpeedKm_h                          5                   16   \n",
       "Max_Gust_SpeedKm_h                         NaN                  NaN   \n",
       "Precipitationmm                              0                    0   \n",
       "CloudCover                                   2                    6   \n",
       "Events                                     Fog                  NaN   \n",
       "WindDirDegrees                             354                  282   \n",
       "StateName                   NordrheinWestfalen               Berlin   \n",
       "CompetitionOpenSince       2006-12-15 00:00:00  2009-09-15 00:00:00   \n",
       "CompetitionDaysOpen                       3150                 2145   \n",
       "CompetitionMonthsOpen                       24                   24   \n",
       "Promo2Since                2011-04-04 00:00:00  1900-01-01 00:00:00   \n",
       "Promo2Days                                1579                    0   \n",
       "Promo2Weeks                                 25                    0   \n",
       "AfterSchoolHoliday                           0                    0   \n",
       "BeforeSchoolHoliday                          0                    0   \n",
       "AfterStateHoliday                           57                   67   \n",
       "BeforeStateHoliday                           0                    0   \n",
       "AfterPromo                                   0                    0   \n",
       "BeforePromo                                  0                    0   \n",
       "SchoolHoliday_bw                             5                    5   \n",
       "StateHoliday_bw                              0                    0   \n",
       "Promo_bw                                     5                    5   \n",
       "SchoolHoliday_fw                             5                    1   \n",
       "StateHoliday_fw                              0                    0   \n",
       "Promo_fw                                     5                    1   \n",
       "\n",
       "                                             4  \n",
       "index                                        4  \n",
       "Store                                        5  \n",
       "DayOfWeek                                    5  \n",
       "Date                       2015-07-31 00:00:00  \n",
       "Sales                                     4822  \n",
       "Customers                                  559  \n",
       "Open                                         1  \n",
       "Promo                                        1  \n",
       "StateHoliday                             False  \n",
       "SchoolHoliday                                1  \n",
       "Year                                      2015  \n",
       "Month                                        7  \n",
       "Week                                        31  \n",
       "Day                                         31  \n",
       "Dayofweek                                    4  \n",
       "Dayofyear                                  212  \n",
       "Is_month_end                              True  \n",
       "Is_month_start                           False  \n",
       "Is_quarter_end                           False  \n",
       "Is_quarter_start                         False  \n",
       "Is_year_end                              False  \n",
       "Is_year_start                            False  \n",
       "Elapsed                             1438300800  \n",
       "StoreType                                    a  \n",
       "Assortment                                   a  \n",
       "CompetitionDistance                      29910  \n",
       "CompetitionOpenSinceMonth                    4  \n",
       "CompetitionOpenSinceYear                  2015  \n",
       "Promo2                                       0  \n",
       "Promo2SinceWeek                              1  \n",
       "...                                        ...  \n",
       "Min_Sea_Level_PressurehPa                 1016  \n",
       "Max_VisibilityKm                            10  \n",
       "Mean_VisibilityKm                           10  \n",
       "Min_VisibilitykM                            10  \n",
       "Max_Wind_SpeedKm_h                          14  \n",
       "Mean_Wind_SpeedKm_h                         11  \n",
       "Max_Gust_SpeedKm_h                         NaN  \n",
       "Precipitationmm                              0  \n",
       "CloudCover                                   4  \n",
       "Events                                     NaN  \n",
       "WindDirDegrees                             290  \n",
       "StateName                              Sachsen  \n",
       "CompetitionOpenSince       2015-04-15 00:00:00  \n",
       "CompetitionDaysOpen                        107  \n",
       "CompetitionMonthsOpen                        3  \n",
       "Promo2Since                1900-01-01 00:00:00  \n",
       "Promo2Days                                   0  \n",
       "Promo2Weeks                                  0  \n",
       "AfterSchoolHoliday                           0  \n",
       "BeforeSchoolHoliday                          0  \n",
       "AfterStateHoliday                           57  \n",
       "BeforeStateHoliday                           0  \n",
       "AfterPromo                                   0  \n",
       "BeforePromo                                  0  \n",
       "SchoolHoliday_bw                             5  \n",
       "StateHoliday_bw                              0  \n",
       "Promo_bw                                     5  \n",
       "SchoolHoliday_fw                             1  \n",
       "StateHoliday_fw                              0  \n",
       "Promo_fw                                     1  \n",
       "\n",
       "[93 rows x 5 columns]"
      ]
     },
     "execution_count": 4,
     "metadata": {},
     "output_type": "execute_result"
    }
   ],
   "source": [
    "train_df.head().T"
   ]
  },
  {
   "cell_type": "code",
   "execution_count": 5,
   "metadata": {},
   "outputs": [
    {
     "data": {
      "text/plain": [
       "844338"
      ]
     },
     "execution_count": 5,
     "metadata": {},
     "output_type": "execute_result"
    }
   ],
   "source": [
    "n = len(train_df); n"
   ]
  },
  {
   "cell_type": "markdown",
   "metadata": {},
   "source": [
    "### Experimenting with a sample"
   ]
  },
  {
   "cell_type": "code",
   "execution_count": 6,
   "metadata": {},
   "outputs": [],
   "source": [
    "idx = train_df.sample(n=2000, random_state=42).index.sort_values()\n",
    "small_train_df = train_df.iloc[idx[:1000]]\n",
    "small_test_df = train_df.iloc[idx[1000:]]\n",
    "small_cont_vars = ['CompetitionDistance', 'Mean_Humidity']\n",
    "small_cat_vars =  ['Store', 'DayOfWeek', 'PromoInterval']\n",
    "small_train_df = small_train_df[small_cat_vars + small_cont_vars + ['Sales']]\n",
    "small_test_df = small_test_df[small_cat_vars + small_cont_vars + ['Sales']]"
   ]
  },
  {
   "cell_type": "code",
   "execution_count": 7,
   "metadata": {},
   "outputs": [
    {
     "data": {
      "text/html": [
       "<div>\n",
       "<style scoped>\n",
       "    .dataframe tbody tr th:only-of-type {\n",
       "        vertical-align: middle;\n",
       "    }\n",
       "\n",
       "    .dataframe tbody tr th {\n",
       "        vertical-align: top;\n",
       "    }\n",
       "\n",
       "    .dataframe thead th {\n",
       "        text-align: right;\n",
       "    }\n",
       "</style>\n",
       "<table border=\"1\" class=\"dataframe\">\n",
       "  <thead>\n",
       "    <tr style=\"text-align: right;\">\n",
       "      <th></th>\n",
       "      <th>Store</th>\n",
       "      <th>DayOfWeek</th>\n",
       "      <th>PromoInterval</th>\n",
       "      <th>CompetitionDistance</th>\n",
       "      <th>Mean_Humidity</th>\n",
       "      <th>Sales</th>\n",
       "    </tr>\n",
       "  </thead>\n",
       "  <tbody>\n",
       "    <tr>\n",
       "      <th>893</th>\n",
       "      <td>896</td>\n",
       "      <td>5</td>\n",
       "      <td>NaN</td>\n",
       "      <td>170.0</td>\n",
       "      <td>61</td>\n",
       "      <td>8763</td>\n",
       "    </tr>\n",
       "    <tr>\n",
       "      <th>1071</th>\n",
       "      <td>1074</td>\n",
       "      <td>5</td>\n",
       "      <td>Jan,Apr,Jul,Oct</td>\n",
       "      <td>3330.0</td>\n",
       "      <td>55</td>\n",
       "      <td>6789</td>\n",
       "    </tr>\n",
       "    <tr>\n",
       "      <th>2047</th>\n",
       "      <td>937</td>\n",
       "      <td>4</td>\n",
       "      <td>Jan,Apr,Jul,Oct</td>\n",
       "      <td>2810.0</td>\n",
       "      <td>56</td>\n",
       "      <td>7722</td>\n",
       "    </tr>\n",
       "    <tr>\n",
       "      <th>2403</th>\n",
       "      <td>178</td>\n",
       "      <td>3</td>\n",
       "      <td>NaN</td>\n",
       "      <td>1710.0</td>\n",
       "      <td>55</td>\n",
       "      <td>10766</td>\n",
       "    </tr>\n",
       "    <tr>\n",
       "      <th>2685</th>\n",
       "      <td>461</td>\n",
       "      <td>3</td>\n",
       "      <td>Jan,Apr,Jul,Oct</td>\n",
       "      <td>1790.0</td>\n",
       "      <td>73</td>\n",
       "      <td>6176</td>\n",
       "    </tr>\n",
       "  </tbody>\n",
       "</table>\n",
       "</div>"
      ],
      "text/plain": [
       "      Store  DayOfWeek    PromoInterval  CompetitionDistance  Mean_Humidity  \\\n",
       "893     896          5              NaN                170.0             61   \n",
       "1071   1074          5  Jan,Apr,Jul,Oct               3330.0             55   \n",
       "2047    937          4  Jan,Apr,Jul,Oct               2810.0             56   \n",
       "2403    178          3              NaN               1710.0             55   \n",
       "2685    461          3  Jan,Apr,Jul,Oct               1790.0             73   \n",
       "\n",
       "      Sales  \n",
       "893    8763  \n",
       "1071   6789  \n",
       "2047   7722  \n",
       "2403  10766  \n",
       "2685   6176  "
      ]
     },
     "execution_count": 7,
     "metadata": {},
     "output_type": "execute_result"
    }
   ],
   "source": [
    "small_train_df.head()"
   ]
  },
  {
   "cell_type": "code",
   "execution_count": 8,
   "metadata": {},
   "outputs": [
    {
     "data": {
      "text/html": [
       "<div>\n",
       "<style scoped>\n",
       "    .dataframe tbody tr th:only-of-type {\n",
       "        vertical-align: middle;\n",
       "    }\n",
       "\n",
       "    .dataframe tbody tr th {\n",
       "        vertical-align: top;\n",
       "    }\n",
       "\n",
       "    .dataframe thead th {\n",
       "        text-align: right;\n",
       "    }\n",
       "</style>\n",
       "<table border=\"1\" class=\"dataframe\">\n",
       "  <thead>\n",
       "    <tr style=\"text-align: right;\">\n",
       "      <th></th>\n",
       "      <th>Store</th>\n",
       "      <th>DayOfWeek</th>\n",
       "      <th>PromoInterval</th>\n",
       "      <th>CompetitionDistance</th>\n",
       "      <th>Mean_Humidity</th>\n",
       "      <th>Sales</th>\n",
       "    </tr>\n",
       "  </thead>\n",
       "  <tbody>\n",
       "    <tr>\n",
       "      <th>433256</th>\n",
       "      <td>182</td>\n",
       "      <td>3</td>\n",
       "      <td>Mar,Jun,Sept,Dec</td>\n",
       "      <td>1390.0</td>\n",
       "      <td>63</td>\n",
       "      <td>4907</td>\n",
       "    </tr>\n",
       "    <tr>\n",
       "      <th>433387</th>\n",
       "      <td>313</td>\n",
       "      <td>3</td>\n",
       "      <td>NaN</td>\n",
       "      <td>14160.0</td>\n",
       "      <td>71</td>\n",
       "      <td>6816</td>\n",
       "    </tr>\n",
       "    <tr>\n",
       "      <th>434021</th>\n",
       "      <td>948</td>\n",
       "      <td>3</td>\n",
       "      <td>NaN</td>\n",
       "      <td>1430.0</td>\n",
       "      <td>56</td>\n",
       "      <td>6566</td>\n",
       "    </tr>\n",
       "    <tr>\n",
       "      <th>434677</th>\n",
       "      <td>492</td>\n",
       "      <td>2</td>\n",
       "      <td>Jan,Apr,Jul,Oct</td>\n",
       "      <td>1740.0</td>\n",
       "      <td>61</td>\n",
       "      <td>9110</td>\n",
       "    </tr>\n",
       "    <tr>\n",
       "      <th>434725</th>\n",
       "      <td>540</td>\n",
       "      <td>2</td>\n",
       "      <td>Jan,Apr,Jul,Oct</td>\n",
       "      <td>810.0</td>\n",
       "      <td>61</td>\n",
       "      <td>6518</td>\n",
       "    </tr>\n",
       "  </tbody>\n",
       "</table>\n",
       "</div>"
      ],
      "text/plain": [
       "        Store  DayOfWeek     PromoInterval  CompetitionDistance  \\\n",
       "433256    182          3  Mar,Jun,Sept,Dec               1390.0   \n",
       "433387    313          3               NaN              14160.0   \n",
       "434021    948          3               NaN               1430.0   \n",
       "434677    492          2   Jan,Apr,Jul,Oct               1740.0   \n",
       "434725    540          2   Jan,Apr,Jul,Oct                810.0   \n",
       "\n",
       "        Mean_Humidity  Sales  \n",
       "433256             63   4907  \n",
       "433387             71   6816  \n",
       "434021             56   6566  \n",
       "434677             61   9110  \n",
       "434725             61   6518  "
      ]
     },
     "execution_count": 8,
     "metadata": {},
     "output_type": "execute_result"
    }
   ],
   "source": [
    "small_test_df.head()"
   ]
  },
  {
   "cell_type": "markdown",
   "metadata": {},
   "source": [
    "<font color='red'>Learn to use `Categorify`:</font>\n",
    "``` python\n",
    "from fastai.tabular.transform import Categorify\n",
    "```\n",
    "> notice how it is called upon the data:\n",
    ">> - after initialized, it is called upon training df first, and then upon the test/valid df"
   ]
  },
  {
   "cell_type": "code",
   "execution_count": 9,
   "metadata": {},
   "outputs": [],
   "source": [
    "categorify = Categorify(small_cat_vars, small_cont_vars)\n",
    "categorify(small_train_df)\n",
    "categorify(small_test_df, test=True)"
   ]
  },
  {
   "cell_type": "markdown",
   "metadata": {},
   "source": [
    "- when `Categorify` a training portion, we need to pay attention to the scenario where not all categories in test portion are seen in training.\n",
    "> so these categories become `NaN` in the test_df"
   ]
  },
  {
   "cell_type": "code",
   "execution_count": 10,
   "metadata": {},
   "outputs": [
    {
     "data": {
      "text/plain": [
       "False"
      ]
     },
     "execution_count": 10,
     "metadata": {},
     "output_type": "execute_result"
    }
   ],
   "source": [
    "182 in categorify.categories['Store']"
   ]
  },
  {
   "cell_type": "code",
   "execution_count": 10,
   "metadata": {},
   "outputs": [
    {
     "data": {
      "text/html": [
       "<div>\n",
       "<style scoped>\n",
       "    .dataframe tbody tr th:only-of-type {\n",
       "        vertical-align: middle;\n",
       "    }\n",
       "\n",
       "    .dataframe tbody tr th {\n",
       "        vertical-align: top;\n",
       "    }\n",
       "\n",
       "    .dataframe thead th {\n",
       "        text-align: right;\n",
       "    }\n",
       "</style>\n",
       "<table border=\"1\" class=\"dataframe\">\n",
       "  <thead>\n",
       "    <tr style=\"text-align: right;\">\n",
       "      <th></th>\n",
       "      <th>Store</th>\n",
       "      <th>DayOfWeek</th>\n",
       "      <th>PromoInterval</th>\n",
       "      <th>CompetitionDistance</th>\n",
       "      <th>Mean_Humidity</th>\n",
       "      <th>Sales</th>\n",
       "    </tr>\n",
       "  </thead>\n",
       "  <tbody>\n",
       "    <tr>\n",
       "      <th>433256</th>\n",
       "      <td>NaN</td>\n",
       "      <td>3</td>\n",
       "      <td>Mar,Jun,Sept,Dec</td>\n",
       "      <td>1390.0</td>\n",
       "      <td>63</td>\n",
       "      <td>4907</td>\n",
       "    </tr>\n",
       "    <tr>\n",
       "      <th>433387</th>\n",
       "      <td>313.0</td>\n",
       "      <td>3</td>\n",
       "      <td>NaN</td>\n",
       "      <td>14160.0</td>\n",
       "      <td>71</td>\n",
       "      <td>6816</td>\n",
       "    </tr>\n",
       "    <tr>\n",
       "      <th>434021</th>\n",
       "      <td>NaN</td>\n",
       "      <td>3</td>\n",
       "      <td>NaN</td>\n",
       "      <td>1430.0</td>\n",
       "      <td>56</td>\n",
       "      <td>6566</td>\n",
       "    </tr>\n",
       "    <tr>\n",
       "      <th>434677</th>\n",
       "      <td>492.0</td>\n",
       "      <td>2</td>\n",
       "      <td>Jan,Apr,Jul,Oct</td>\n",
       "      <td>1740.0</td>\n",
       "      <td>61</td>\n",
       "      <td>9110</td>\n",
       "    </tr>\n",
       "    <tr>\n",
       "      <th>434725</th>\n",
       "      <td>540.0</td>\n",
       "      <td>2</td>\n",
       "      <td>Jan,Apr,Jul,Oct</td>\n",
       "      <td>810.0</td>\n",
       "      <td>61</td>\n",
       "      <td>6518</td>\n",
       "    </tr>\n",
       "  </tbody>\n",
       "</table>\n",
       "</div>"
      ],
      "text/plain": [
       "        Store DayOfWeek     PromoInterval  CompetitionDistance  Mean_Humidity  \\\n",
       "433256    NaN         3  Mar,Jun,Sept,Dec               1390.0             63   \n",
       "433387  313.0         3               NaN              14160.0             71   \n",
       "434021    NaN         3               NaN               1430.0             56   \n",
       "434677  492.0         2   Jan,Apr,Jul,Oct               1740.0             61   \n",
       "434725  540.0         2   Jan,Apr,Jul,Oct                810.0             61   \n",
       "\n",
       "        Sales  \n",
       "433256   4907  \n",
       "433387   6816  \n",
       "434021   6566  \n",
       "434677   9110  \n",
       "434725   6518  "
      ]
     },
     "execution_count": 10,
     "metadata": {},
     "output_type": "execute_result"
    }
   ],
   "source": [
    "small_test_df.head()"
   ]
  },
  {
   "cell_type": "code",
   "execution_count": 11,
   "metadata": {},
   "outputs": [
    {
     "data": {
      "text/plain": [
       "Index(['Feb,May,Aug,Nov', 'Jan,Apr,Jul,Oct', 'Mar,Jun,Sept,Dec'], dtype='object')"
      ]
     },
     "execution_count": 11,
     "metadata": {},
     "output_type": "execute_result"
    }
   ],
   "source": [
    "small_train_df.PromoInterval.cat.categories"
   ]
  },
  {
   "cell_type": "code",
   "execution_count": 12,
   "metadata": {},
   "outputs": [
    {
     "data": {
      "text/html": [
       "<div>\n",
       "<style scoped>\n",
       "    .dataframe tbody tr th:only-of-type {\n",
       "        vertical-align: middle;\n",
       "    }\n",
       "\n",
       "    .dataframe tbody tr th {\n",
       "        vertical-align: top;\n",
       "    }\n",
       "\n",
       "    .dataframe thead th {\n",
       "        text-align: right;\n",
       "    }\n",
       "</style>\n",
       "<table border=\"1\" class=\"dataframe\">\n",
       "  <thead>\n",
       "    <tr style=\"text-align: right;\">\n",
       "      <th></th>\n",
       "      <th>Store</th>\n",
       "      <th>DayOfWeek</th>\n",
       "      <th>PromoInterval</th>\n",
       "      <th>CompetitionDistance</th>\n",
       "      <th>Mean_Humidity</th>\n",
       "      <th>Sales</th>\n",
       "    </tr>\n",
       "  </thead>\n",
       "  <tbody>\n",
       "    <tr>\n",
       "      <th>893</th>\n",
       "      <td>896</td>\n",
       "      <td>5</td>\n",
       "      <td>NaN</td>\n",
       "      <td>170.0</td>\n",
       "      <td>61</td>\n",
       "      <td>8763</td>\n",
       "    </tr>\n",
       "    <tr>\n",
       "      <th>1071</th>\n",
       "      <td>1074</td>\n",
       "      <td>5</td>\n",
       "      <td>Jan,Apr,Jul,Oct</td>\n",
       "      <td>3330.0</td>\n",
       "      <td>55</td>\n",
       "      <td>6789</td>\n",
       "    </tr>\n",
       "    <tr>\n",
       "      <th>2047</th>\n",
       "      <td>937</td>\n",
       "      <td>4</td>\n",
       "      <td>Jan,Apr,Jul,Oct</td>\n",
       "      <td>2810.0</td>\n",
       "      <td>56</td>\n",
       "      <td>7722</td>\n",
       "    </tr>\n",
       "    <tr>\n",
       "      <th>2403</th>\n",
       "      <td>178</td>\n",
       "      <td>3</td>\n",
       "      <td>NaN</td>\n",
       "      <td>1710.0</td>\n",
       "      <td>55</td>\n",
       "      <td>10766</td>\n",
       "    </tr>\n",
       "    <tr>\n",
       "      <th>2685</th>\n",
       "      <td>461</td>\n",
       "      <td>3</td>\n",
       "      <td>Jan,Apr,Jul,Oct</td>\n",
       "      <td>1790.0</td>\n",
       "      <td>73</td>\n",
       "      <td>6176</td>\n",
       "    </tr>\n",
       "  </tbody>\n",
       "</table>\n",
       "</div>"
      ],
      "text/plain": [
       "     Store DayOfWeek    PromoInterval  CompetitionDistance  Mean_Humidity  \\\n",
       "893    896         5              NaN                170.0             61   \n",
       "1071  1074         5  Jan,Apr,Jul,Oct               3330.0             55   \n",
       "2047   937         4  Jan,Apr,Jul,Oct               2810.0             56   \n",
       "2403   178         3              NaN               1710.0             55   \n",
       "2685   461         3  Jan,Apr,Jul,Oct               1790.0             73   \n",
       "\n",
       "      Sales  \n",
       "893    8763  \n",
       "1071   6789  \n",
       "2047   7722  \n",
       "2403  10766  \n",
       "2685   6176  "
      ]
     },
     "execution_count": 12,
     "metadata": {},
     "output_type": "execute_result"
    }
   ],
   "source": [
    "small_train_df.head()"
   ]
  },
  {
   "cell_type": "markdown",
   "metadata": {},
   "source": [
    "- missing values `NaN` in the df become `-1`; as embedding doesn't work with negative values, later in trainining all category code will ++1"
   ]
  },
  {
   "cell_type": "code",
   "execution_count": 13,
   "metadata": {},
   "outputs": [
    {
     "data": {
      "text/plain": [
       "893    -1\n",
       "1071    1\n",
       "2047    1\n",
       "2403   -1\n",
       "2685    1\n",
       "dtype: int8"
      ]
     },
     "execution_count": 13,
     "metadata": {},
     "output_type": "execute_result"
    }
   ],
   "source": [
    "small_train_df['PromoInterval'].cat.codes[:5]"
   ]
  },
  {
   "cell_type": "markdown",
   "metadata": {},
   "source": [
    "<font color='red'>Learn to use `FillMissing`:</font>\n",
    "```python\n",
    "from fastai.tabular.transform import FillMissing\n",
    "```\n",
    "There are 3 filling strategies:\n",
    "  1. fill median (default)\n",
    "  2. fill constant\n",
    "  3. fill the most probable value"
   ]
  },
  {
   "cell_type": "code",
   "execution_count": 14,
   "metadata": {},
   "outputs": [],
   "source": [
    "fill_missing = FillMissing(small_cat_vars, small_cont_vars)\n",
    "fill_missing(small_train_df)\n",
    "fill_missing(small_test_df, test=True)"
   ]
  },
  {
   "cell_type": "code",
   "execution_count": 15,
   "metadata": {},
   "outputs": [
    {
     "data": {
      "text/html": [
       "<div>\n",
       "<style scoped>\n",
       "    .dataframe tbody tr th:only-of-type {\n",
       "        vertical-align: middle;\n",
       "    }\n",
       "\n",
       "    .dataframe tbody tr th {\n",
       "        vertical-align: top;\n",
       "    }\n",
       "\n",
       "    .dataframe thead th {\n",
       "        text-align: right;\n",
       "    }\n",
       "</style>\n",
       "<table border=\"1\" class=\"dataframe\">\n",
       "  <thead>\n",
       "    <tr style=\"text-align: right;\">\n",
       "      <th></th>\n",
       "      <th>Store</th>\n",
       "      <th>DayOfWeek</th>\n",
       "      <th>PromoInterval</th>\n",
       "      <th>CompetitionDistance</th>\n",
       "      <th>Mean_Humidity</th>\n",
       "      <th>Sales</th>\n",
       "      <th>CompetitionDistance_na</th>\n",
       "    </tr>\n",
       "  </thead>\n",
       "  <tbody>\n",
       "    <tr>\n",
       "      <th>202217</th>\n",
       "      <td>622</td>\n",
       "      <td>1</td>\n",
       "      <td>NaN</td>\n",
       "      <td>2410.0</td>\n",
       "      <td>94</td>\n",
       "      <td>8451</td>\n",
       "      <td>True</td>\n",
       "    </tr>\n",
       "    <tr>\n",
       "      <th>275513</th>\n",
       "      <td>291</td>\n",
       "      <td>5</td>\n",
       "      <td>NaN</td>\n",
       "      <td>2410.0</td>\n",
       "      <td>76</td>\n",
       "      <td>7571</td>\n",
       "      <td>True</td>\n",
       "    </tr>\n",
       "  </tbody>\n",
       "</table>\n",
       "</div>"
      ],
      "text/plain": [
       "       Store DayOfWeek PromoInterval  CompetitionDistance  Mean_Humidity  \\\n",
       "202217   622         1           NaN               2410.0             94   \n",
       "275513   291         5           NaN               2410.0             76   \n",
       "\n",
       "        Sales  CompetitionDistance_na  \n",
       "202217   8451                    True  \n",
       "275513   7571                    True  "
      ]
     },
     "execution_count": 15,
     "metadata": {},
     "output_type": "execute_result"
    }
   ],
   "source": [
    "small_train_df[small_train_df['CompetitionDistance_na'] == True]"
   ]
  },
  {
   "cell_type": "markdown",
   "metadata": {},
   "source": [
    "<font color='red'>Learn to use `Normalize`:</font>\n",
    "``` python\n",
    "from fastai.tabular.transform import Normalize\n",
    "```"
   ]
  },
  {
   "cell_type": "markdown",
   "metadata": {},
   "source": [
    "### Preparing full data set"
   ]
  },
  {
   "cell_type": "code",
   "execution_count": 16,
   "metadata": {},
   "outputs": [],
   "source": [
    "train_df = pd.read_pickle(path/'train_clean')\n",
    "test_df = pd.read_pickle(path/'test_clean')"
   ]
  },
  {
   "cell_type": "code",
   "execution_count": 17,
   "metadata": {},
   "outputs": [
    {
     "data": {
      "text/plain": [
       "(844338, 41088)"
      ]
     },
     "execution_count": 17,
     "metadata": {},
     "output_type": "execute_result"
    }
   ],
   "source": [
    "len(train_df),len(test_df)"
   ]
  },
  {
   "cell_type": "code",
   "execution_count": 18,
   "metadata": {},
   "outputs": [],
   "source": [
    "procs=[FillMissing, Categorify, Normalize]"
   ]
  },
  {
   "cell_type": "code",
   "execution_count": 19,
   "metadata": {},
   "outputs": [],
   "source": [
    "cat_vars = ['Store', 'DayOfWeek', 'Year', 'Month', 'Day', 'StateHoliday', 'CompetitionMonthsOpen',\n",
    "    'Promo2Weeks', 'StoreType', 'Assortment', 'PromoInterval', 'CompetitionOpenSinceYear', 'Promo2SinceYear',\n",
    "    'State', 'Week', 'Events', 'Promo_fw', 'Promo_bw', 'StateHoliday_fw', 'StateHoliday_bw',\n",
    "    'SchoolHoliday_fw', 'SchoolHoliday_bw']\n",
    "\n",
    "cont_vars = ['CompetitionDistance', 'Max_TemperatureC', 'Mean_TemperatureC', 'Min_TemperatureC',\n",
    "   'Max_Humidity', 'Mean_Humidity', 'Min_Humidity', 'Max_Wind_SpeedKm_h', \n",
    "   'Mean_Wind_SpeedKm_h', 'CloudCover', 'trend', 'trend_DE',\n",
    "   'AfterStateHoliday', 'BeforeStateHoliday', 'Promo', 'SchoolHoliday']"
   ]
  },
  {
   "cell_type": "code",
   "execution_count": 23,
   "metadata": {},
   "outputs": [],
   "source": [
    "dep_var = 'Sales'  # dep_var means dependent variable, a.k.a. the learning target\n",
    "df = train_df[cat_vars + cont_vars + [dep_var,'Date']].copy()  # `df` will be split for training and validation"
   ]
  },
  {
   "cell_type": "code",
   "execution_count": 25,
   "metadata": {},
   "outputs": [
    {
     "data": {
      "text/plain": [
       "(Timestamp('2013-01-01 00:00:00'), Timestamp('2015-07-31 00:00:00'))"
      ]
     },
     "execution_count": 25,
     "metadata": {},
     "output_type": "execute_result"
    }
   ],
   "source": [
    "train_df['Date'].min(), train_df['Date'].max()"
   ]
  },
  {
   "cell_type": "code",
   "execution_count": 21,
   "metadata": {},
   "outputs": [
    {
     "data": {
      "text/plain": [
       "(Timestamp('2015-08-01 00:00:00'), Timestamp('2015-09-17 00:00:00'))"
      ]
     },
     "execution_count": 21,
     "metadata": {},
     "output_type": "execute_result"
    }
   ],
   "source": [
    "test_df['Date'].min(), test_df['Date'].max()"
   ]
  },
  {
   "cell_type": "markdown",
   "metadata": {},
   "source": [
    "> we want to use approximately the same number of records for validation set as in test set\n",
    "\n",
    "> and at the same time we don't want to exclude any records with the same timestamp"
   ]
  },
  {
   "cell_type": "code",
   "execution_count": 48,
   "metadata": {},
   "outputs": [
    {
     "data": {
      "text/plain": [
       "41395"
      ]
     },
     "execution_count": 48,
     "metadata": {},
     "output_type": "execute_result"
    }
   ],
   "source": [
    "# this cell does the same as the next cell, but probably more clear\n",
    "_date = train_df.loc[len(test_df), 'Date']\n",
    "train_df.query('Date == @_date').index.max()"
   ]
  },
  {
   "cell_type": "code",
   "execution_count": 49,
   "metadata": {},
   "outputs": [
    {
     "data": {
      "text/plain": [
       "41395"
      ]
     },
     "execution_count": 49,
     "metadata": {},
     "output_type": "execute_result"
    }
   ],
   "source": [
    "cut = train_df['Date'][(train_df['Date'] == train_df['Date'][len(test_df)])].index.max()\n",
    "cut"
   ]
  },
  {
   "cell_type": "code",
   "execution_count": 50,
   "metadata": {},
   "outputs": [],
   "source": [
    "valid_idx = range(cut)"
   ]
  },
  {
   "cell_type": "code",
   "execution_count": 51,
   "metadata": {},
   "outputs": [
    {
     "data": {
      "text/plain": [
       "0     5263\n",
       "1     6064\n",
       "2     8314\n",
       "3    13995\n",
       "4     4822\n",
       "Name: Sales, dtype: int64"
      ]
     },
     "execution_count": 51,
     "metadata": {},
     "output_type": "execute_result"
    }
   ],
   "source": [
    "df[dep_var].head()"
   ]
  },
  {
   "cell_type": "code",
   "execution_count": 54,
   "metadata": {},
   "outputs": [],
   "source": [
    "data = (TabularList.from_df(df, path=path, cat_names=cat_vars, cont_names=cont_vars, procs=procs,)\n",
    "                .split_by_idx(valid_idx)\n",
    "                .label_from_df(cols=dep_var, label_cls=FloatList, log=True)  # use FloatList to indicating a regression practice\n",
    "                .add_test(TabularList.from_df(test_df, path=path, cat_names=cat_vars, cont_names=cont_vars))  # test set is added\n",
    "                .databunch())"
   ]
  },
  {
   "cell_type": "code",
   "execution_count": 53,
   "metadata": {},
   "outputs": [
    {
     "data": {
      "text/html": [
       "<h2 id=\"FloatList\"><code>class</code> <code>FloatList</code><a href=\"https://github.com/fastai/fastai/blob/master/fastai/data_block.py#L395\" class=\"source_link\" style=\"float:right\">[source]</a></h2><blockquote><p><code>FloatList</code>(<strong><code>items</code></strong>:<code>Iterator</code>[<code>T_co</code>], <strong><code>log</code></strong>:<code>bool</code>=<strong><em><code>False</code></em></strong>, <strong><code>classes</code></strong>:<code>Collection</code>[<code>T_co</code>]=<strong><em><code>None</code></em></strong>, <strong>**<code>kwargs</code></strong>) :: <a href=\"https://docs.fast.ai/data_block.html#ItemList\"><code>ItemList</code></a></p>\n",
       "</blockquote>\n",
       "<p><a href=\"https://docs.fast.ai/data_block.html#ItemList\"><code>ItemList</code></a> suitable for storing the floats in items for regression. Will add a <code>log</code> if this flag is <code>True</code>.</p>\n",
       "<p><a href=\"https://docs.fast.ai/data_block.html#FloatList\" target=\"_blank\" rel=\"noreferrer noopener\">Show in docs</a></p>\n"
      ]
     },
     "metadata": {},
     "output_type": "display_data"
    }
   ],
   "source": [
    "doc(FloatList)"
   ]
  },
  {
   "cell_type": "markdown",
   "metadata": {},
   "source": [
    "## Model"
   ]
  },
  {
   "cell_type": "markdown",
   "metadata": {},
   "source": [
    "### what is the range of value for \"target\" that we are trying to predict? - specify `y_range`"
   ]
  },
  {
   "cell_type": "code",
   "execution_count": 55,
   "metadata": {},
   "outputs": [],
   "source": [
    "max_log_y = np.log(np.max(train_df['Sales'])*1.2)\n",
    "y_range = torch.tensor([0, max_log_y], device=defaults.device)"
   ]
  },
  {
   "cell_type": "code",
   "execution_count": 56,
   "metadata": {},
   "outputs": [],
   "source": [
    "learn = tabular_learner(data, \n",
    "                        layers=[1000,500], \n",
    "                        ps=[0.001,0.01],   # probabilities for dropout for fully connected layers\n",
    "                        emb_drop=0.04,     # probabilities for dropout for embedding layers\n",
    "                        y_range=y_range, metrics=exp_rmspe)"
   ]
  },
  {
   "cell_type": "code",
   "execution_count": 57,
   "metadata": {},
   "outputs": [
    {
     "data": {
      "text/plain": [
       "TabularModel(\n",
       "  (embeds): ModuleList(\n",
       "    (0): Embedding(1116, 81)\n",
       "    (1): Embedding(8, 5)\n",
       "    (2): Embedding(4, 3)\n",
       "    (3): Embedding(13, 7)\n",
       "    (4): Embedding(32, 11)\n",
       "    (5): Embedding(3, 3)\n",
       "    (6): Embedding(26, 10)\n",
       "    (7): Embedding(27, 10)\n",
       "    (8): Embedding(5, 4)\n",
       "    (9): Embedding(4, 3)\n",
       "    (10): Embedding(4, 3)\n",
       "    (11): Embedding(24, 9)\n",
       "    (12): Embedding(9, 5)\n",
       "    (13): Embedding(13, 7)\n",
       "    (14): Embedding(53, 15)\n",
       "    (15): Embedding(22, 9)\n",
       "    (16): Embedding(7, 5)\n",
       "    (17): Embedding(7, 5)\n",
       "    (18): Embedding(4, 3)\n",
       "    (19): Embedding(4, 3)\n",
       "    (20): Embedding(9, 5)\n",
       "    (21): Embedding(9, 5)\n",
       "    (22): Embedding(3, 3)\n",
       "    (23): Embedding(3, 3)\n",
       "  )\n",
       "  (emb_drop): Dropout(p=0.04)\n",
       "  (bn_cont): BatchNorm1d(16, eps=1e-05, momentum=0.1, affine=True, track_running_stats=True)\n",
       "  (layers): Sequential(\n",
       "    (0): Linear(in_features=233, out_features=1000, bias=True)\n",
       "    (1): ReLU(inplace)\n",
       "    (2): BatchNorm1d(1000, eps=1e-05, momentum=0.1, affine=True, track_running_stats=True)\n",
       "    (3): Dropout(p=0.001)\n",
       "    (4): Linear(in_features=1000, out_features=500, bias=True)\n",
       "    (5): ReLU(inplace)\n",
       "    (6): BatchNorm1d(500, eps=1e-05, momentum=0.1, affine=True, track_running_stats=True)\n",
       "    (7): Dropout(p=0.01)\n",
       "    (8): Linear(in_features=500, out_features=1, bias=True)\n",
       "  )\n",
       ")"
      ]
     },
     "execution_count": 57,
     "metadata": {},
     "output_type": "execute_result"
    }
   ],
   "source": [
    "learn.model"
   ]
  },
  {
   "cell_type": "code",
   "execution_count": 58,
   "metadata": {},
   "outputs": [
    {
     "data": {
      "text/plain": [
       "16"
      ]
     },
     "execution_count": 58,
     "metadata": {},
     "output_type": "execute_result"
    }
   ],
   "source": [
    "len(data.train_ds.cont_names)"
   ]
  },
  {
   "cell_type": "code",
   "execution_count": 59,
   "metadata": {},
   "outputs": [
    {
     "data": {
      "text/html": [],
      "text/plain": [
       "<IPython.core.display.HTML object>"
      ]
     },
     "metadata": {},
     "output_type": "display_data"
    },
    {
     "name": "stdout",
     "output_type": "stream",
     "text": [
      "LR Finder is complete, type {learner_name}.recorder.plot() to see the graph.\n"
     ]
    }
   ],
   "source": [
    "learn.lr_find()"
   ]
  },
  {
   "cell_type": "code",
   "execution_count": 60,
   "metadata": {},
   "outputs": [
    {
     "data": {
      "image/png": "[encoded data removed]",
      "text/plain": [
       "<Figure size 432x288 with 1 Axes>"
      ]
     },
     "metadata": {
      "needs_background": "light"
     },
     "output_type": "display_data"
    }
   ],
   "source": [
    "learn.recorder.plot()"
   ]
  },
  {
   "cell_type": "code",
   "execution_count": 61,
   "metadata": {},
   "outputs": [
    {
     "data": {
      "text/html": [
       "Total time: 10:25 <p><table border=\"1\" class=\"dataframe\">\n",
       "  <thead>\n",
       "    <tr style=\"text-align: left;\">\n",
       "      <th>epoch</th>\n",
       "      <th>train_loss</th>\n",
       "      <th>valid_loss</th>\n",
       "      <th>exp_rmspe</th>\n",
       "      <th>time</th>\n",
       "    </tr>\n",
       "  </thead>\n",
       "  <tbody>\n",
       "    <tr>\n",
       "      <td>1</td>\n",
       "      <td>0.022998</td>\n",
       "      <td>0.022899</td>\n",
       "      <td>0.157327</td>\n",
       "      <td>02:03</td>\n",
       "    </tr>\n",
       "    <tr>\n",
       "      <td>2</td>\n",
       "      <td>0.022732</td>\n",
       "      <td>0.016539</td>\n",
       "      <td>0.129704</td>\n",
       "      <td>02:04</td>\n",
       "    </tr>\n",
       "    <tr>\n",
       "      <td>3</td>\n",
       "      <td>0.016730</td>\n",
       "      <td>0.014491</td>\n",
       "      <td>0.119255</td>\n",
       "      <td>02:05</td>\n",
       "    </tr>\n",
       "    <tr>\n",
       "      <td>4</td>\n",
       "      <td>0.011973</td>\n",
       "      <td>0.013913</td>\n",
       "      <td>0.111285</td>\n",
       "      <td>02:04</td>\n",
       "    </tr>\n",
       "    <tr>\n",
       "      <td>5</td>\n",
       "      <td>0.011340</td>\n",
       "      <td>0.011498</td>\n",
       "      <td>0.103306</td>\n",
       "      <td>02:07</td>\n",
       "    </tr>\n",
       "  </tbody>\n",
       "</table>"
      ],
      "text/plain": [
       "<IPython.core.display.HTML object>"
      ]
     },
     "metadata": {},
     "output_type": "display_data"
    }
   ],
   "source": [
    "learn.fit_one_cycle(5, 1e-3, wd=0.2)"
   ]
  },
  {
   "cell_type": "code",
   "execution_count": 77,
   "metadata": {},
   "outputs": [
    {
     "name": "stdout",
     "output_type": "stream",
     "text": [
      "total 13M\n",
      "-rw-r--r-- 1 jupyter jupyter 9.6M Apr  1 04:34 1.pth\n",
      "-rw-r--r-- 1 jupyter jupyter 3.2M Apr  1 04:21 tmp.pth\n"
     ]
    }
   ],
   "source": [
    "!ls -lh /home/jupyter/.fastai/data/rossmann/models"
   ]
  },
  {
   "cell_type": "code",
   "execution_count": 62,
   "metadata": {},
   "outputs": [],
   "source": [
    "learn.save('1')"
   ]
  },
  {
   "cell_type": "code",
   "execution_count": 78,
   "metadata": {},
   "outputs": [
    {
     "data": {
      "image/png": "[encoded data removed]",
      "text/plain": [
       "<Figure size 432x288 with 1 Axes>"
      ]
     },
     "metadata": {
      "needs_background": "light"
     },
     "output_type": "display_data"
    }
   ],
   "source": [
    "learn.recorder.plot_losses(last=-1)"
   ]
  },
  {
   "cell_type": "code",
   "execution_count": 79,
   "metadata": {},
   "outputs": [],
   "source": [
    "learn.load('1');"
   ]
  },
  {
   "cell_type": "code",
   "execution_count": 80,
   "metadata": {},
   "outputs": [
    {
     "data": {
      "text/html": [
       "Total time: 10:28 <p><table border=\"1\" class=\"dataframe\">\n",
       "  <thead>\n",
       "    <tr style=\"text-align: left;\">\n",
       "      <th>epoch</th>\n",
       "      <th>train_loss</th>\n",
       "      <th>valid_loss</th>\n",
       "      <th>exp_rmspe</th>\n",
       "      <th>time</th>\n",
       "    </tr>\n",
       "  </thead>\n",
       "  <tbody>\n",
       "    <tr>\n",
       "      <td>1</td>\n",
       "      <td>0.011202</td>\n",
       "      <td>0.012984</td>\n",
       "      <td>0.108317</td>\n",
       "      <td>02:03</td>\n",
       "    </tr>\n",
       "    <tr>\n",
       "      <td>2</td>\n",
       "      <td>0.011643</td>\n",
       "      <td>0.012743</td>\n",
       "      <td>0.112405</td>\n",
       "      <td>02:06</td>\n",
       "    </tr>\n",
       "    <tr>\n",
       "      <td>3</td>\n",
       "      <td>0.011406</td>\n",
       "      <td>0.016317</td>\n",
       "      <td>0.113728</td>\n",
       "      <td>02:05</td>\n",
       "    </tr>\n",
       "    <tr>\n",
       "      <td>4</td>\n",
       "      <td>0.009034</td>\n",
       "      <td>0.022027</td>\n",
       "      <td>0.108258</td>\n",
       "      <td>02:07</td>\n",
       "    </tr>\n",
       "    <tr>\n",
       "      <td>5</td>\n",
       "      <td>0.008526</td>\n",
       "      <td>0.015151</td>\n",
       "      <td>0.111539</td>\n",
       "      <td>02:05</td>\n",
       "    </tr>\n",
       "  </tbody>\n",
       "</table>"
      ],
      "text/plain": [
       "<IPython.core.display.HTML object>"
      ]
     },
     "metadata": {},
     "output_type": "display_data"
    }
   ],
   "source": [
    "learn.fit_one_cycle(5, 3e-4)"
   ]
  },
  {
   "cell_type": "code",
   "execution_count": 81,
   "metadata": {},
   "outputs": [
    {
     "data": {
      "text/html": [
       "Total time: 10:26 <p><table border=\"1\" class=\"dataframe\">\n",
       "  <thead>\n",
       "    <tr style=\"text-align: left;\">\n",
       "      <th>epoch</th>\n",
       "      <th>train_loss</th>\n",
       "      <th>valid_loss</th>\n",
       "      <th>exp_rmspe</th>\n",
       "      <th>time</th>\n",
       "    </tr>\n",
       "  </thead>\n",
       "  <tbody>\n",
       "    <tr>\n",
       "      <td>1</td>\n",
       "      <td>0.011084</td>\n",
       "      <td>0.013352</td>\n",
       "      <td>0.112836</td>\n",
       "      <td>02:04</td>\n",
       "    </tr>\n",
       "    <tr>\n",
       "      <td>2</td>\n",
       "      <td>0.011475</td>\n",
       "      <td>0.017505</td>\n",
       "      <td>0.138606</td>\n",
       "      <td>02:05</td>\n",
       "    </tr>\n",
       "    <tr>\n",
       "      <td>3</td>\n",
       "      <td>0.009940</td>\n",
       "      <td>0.014216</td>\n",
       "      <td>0.116940</td>\n",
       "      <td>02:06</td>\n",
       "    </tr>\n",
       "    <tr>\n",
       "      <td>4</td>\n",
       "      <td>0.010251</td>\n",
       "      <td>0.016459</td>\n",
       "      <td>0.115027</td>\n",
       "      <td>02:04</td>\n",
       "    </tr>\n",
       "    <tr>\n",
       "      <td>5</td>\n",
       "      <td>0.008501</td>\n",
       "      <td>0.019964</td>\n",
       "      <td>0.120384</td>\n",
       "      <td>02:06</td>\n",
       "    </tr>\n",
       "  </tbody>\n",
       "</table>"
      ],
      "text/plain": [
       "<IPython.core.display.HTML object>"
      ]
     },
     "metadata": {},
     "output_type": "display_data"
    }
   ],
   "source": [
    "learn.fit_one_cycle(5, 3e-4)"
   ]
  },
  {
   "cell_type": "markdown",
   "metadata": {},
   "source": [
    "(10th place in the competition was 0.108)"
   ]
  },
  {
   "cell_type": "code",
   "execution_count": 83,
   "metadata": {},
   "outputs": [],
   "source": [
    "test_preds=learn.get_preds(DatasetType.Test)\n",
    "test_df[\"Sales\"]=np.exp(test_preds[0].data).numpy().T[0]\n",
    "test_df[[\"Id\",\"Sales\"]]=test_df[[\"Id\",\"Sales\"]].astype(\"int\")\n",
    "test_df[[\"Id\",\"Sales\"]].to_csv(\"rossmann_submission.csv\",index=False)"
   ]
  },
  {
   "cell_type": "code",
   "execution_count": 95,
   "metadata": {},
   "outputs": [
    {
     "data": {
      "text/plain": [
       "array([ 4502.1426,  7048.6133,  8940.192 ,  7891.7915, ...,  7586.198 ,  6167.012 , 23663.174 ,  7890.106 ],\n",
       "      dtype=float32)"
      ]
     },
     "execution_count": 95,
     "metadata": {},
     "output_type": "execute_result"
    }
   ],
   "source": [
    "np.exp(test_preds[0].data.numpy().T[0])"
   ]
  },
  {
   "cell_type": "code",
   "execution_count": 115,
   "metadata": {},
   "outputs": [
    {
     "data": {
      "text/html": [
       "<table border=\"1\" class=\"dataframe\">\n",
       "  <thead>\n",
       "    <tr style=\"text-align: right;\">\n",
       "      <th>Store</th>\n",
       "      <th>DayOfWeek</th>\n",
       "      <th>Year</th>\n",
       "      <th>Month</th>\n",
       "      <th>Day</th>\n",
       "      <th>StateHoliday</th>\n",
       "      <th>CompetitionMonthsOpen</th>\n",
       "      <th>Promo2Weeks</th>\n",
       "      <th>StoreType</th>\n",
       "      <th>Assortment</th>\n",
       "      <th>PromoInterval</th>\n",
       "      <th>CompetitionOpenSinceYear</th>\n",
       "      <th>Promo2SinceYear</th>\n",
       "      <th>State</th>\n",
       "      <th>Week</th>\n",
       "      <th>Events</th>\n",
       "      <th>Promo_fw</th>\n",
       "      <th>Promo_bw</th>\n",
       "      <th>StateHoliday_fw</th>\n",
       "      <th>StateHoliday_bw</th>\n",
       "      <th>SchoolHoliday_fw</th>\n",
       "      <th>SchoolHoliday_bw</th>\n",
       "      <th>CompetitionDistance_na</th>\n",
       "      <th>CloudCover_na</th>\n",
       "      <th>CompetitionDistance</th>\n",
       "      <th>Max_TemperatureC</th>\n",
       "      <th>Mean_TemperatureC</th>\n",
       "      <th>Min_TemperatureC</th>\n",
       "      <th>Max_Humidity</th>\n",
       "      <th>Mean_Humidity</th>\n",
       "      <th>Min_Humidity</th>\n",
       "      <th>Max_Wind_SpeedKm_h</th>\n",
       "      <th>Mean_Wind_SpeedKm_h</th>\n",
       "      <th>CloudCover</th>\n",
       "      <th>trend</th>\n",
       "      <th>trend_DE</th>\n",
       "      <th>AfterStateHoliday</th>\n",
       "      <th>BeforeStateHoliday</th>\n",
       "      <th>Promo</th>\n",
       "      <th>SchoolHoliday</th>\n",
       "      <th>target</th>\n",
       "    </tr>\n",
       "  </thead>\n",
       "  <tbody>\n",
       "    <tr>\n",
       "      <td>853</td>\n",
       "      <td>2</td>\n",
       "      <td>2014</td>\n",
       "      <td>1</td>\n",
       "      <td>7</td>\n",
       "      <td>False</td>\n",
       "      <td>0</td>\n",
       "      <td>0</td>\n",
       "      <td>a</td>\n",
       "      <td>a</td>\n",
       "      <td>#na#</td>\n",
       "      <td>1900</td>\n",
       "      <td>1900</td>\n",
       "      <td>BW</td>\n",
       "      <td>2</td>\n",
       "      <td>#na#</td>\n",
       "      <td>4.0</td>\n",
       "      <td>2.0</td>\n",
       "      <td>0.0</td>\n",
       "      <td>2.0</td>\n",
       "      <td>0.0</td>\n",
       "      <td>3.0</td>\n",
       "      <td>False</td>\n",
       "      <td>False</td>\n",
       "      <td>1.1007</td>\n",
       "      <td>-0.2275</td>\n",
       "      <td>-0.2366</td>\n",
       "      <td>-0.0861</td>\n",
       "      <td>-1.4966</td>\n",
       "      <td>-0.2645</td>\n",
       "      <td>0.0207</td>\n",
       "      <td>-1.2877</td>\n",
       "      <td>-1.1514</td>\n",
       "      <td>0.2552</td>\n",
       "      <td>-0.0466</td>\n",
       "      <td>-1.1325</td>\n",
       "      <td>-1.1752</td>\n",
       "      <td>-1.9262</td>\n",
       "      <td>1.1119</td>\n",
       "      <td>-0.4796</td>\n",
       "      <td>9.6222515</td>\n",
       "    </tr>\n",
       "    <tr>\n",
       "      <td>659</td>\n",
       "      <td>6</td>\n",
       "      <td>2013</td>\n",
       "      <td>3</td>\n",
       "      <td>30</td>\n",
       "      <td>False</td>\n",
       "      <td>12</td>\n",
       "      <td>0</td>\n",
       "      <td>d</td>\n",
       "      <td>a</td>\n",
       "      <td>#na#</td>\n",
       "      <td>2012</td>\n",
       "      <td>1900</td>\n",
       "      <td>HE</td>\n",
       "      <td>13</td>\n",
       "      <td>#na#</td>\n",
       "      <td>0.0</td>\n",
       "      <td>5.0</td>\n",
       "      <td>1.0</td>\n",
       "      <td>1.0</td>\n",
       "      <td>5.0</td>\n",
       "      <td>5.0</td>\n",
       "      <td>False</td>\n",
       "      <td>False</td>\n",
       "      <td>-0.4948</td>\n",
       "      <td>-0.9491</td>\n",
       "      <td>-1.0824</td>\n",
       "      <td>-1.0324</td>\n",
       "      <td>-0.8405</td>\n",
       "      <td>-0.8012</td>\n",
       "      <td>-0.8450</td>\n",
       "      <td>-0.1780</td>\n",
       "      <td>0.1902</td>\n",
       "      <td>0.2552</td>\n",
       "      <td>-0.3185</td>\n",
       "      <td>-0.9164</td>\n",
       "      <td>-1.1752</td>\n",
       "      <td>1.1232</td>\n",
       "      <td>-0.8994</td>\n",
       "      <td>-0.4796</td>\n",
       "      <td>8.4004345</td>\n",
       "    </tr>\n",
       "    <tr>\n",
       "      <td>29</td>\n",
       "      <td>3</td>\n",
       "      <td>2015</td>\n",
       "      <td>2</td>\n",
       "      <td>25</td>\n",
       "      <td>False</td>\n",
       "      <td>0</td>\n",
       "      <td>0</td>\n",
       "      <td>d</td>\n",
       "      <td>c</td>\n",
       "      <td>#na#</td>\n",
       "      <td>1900</td>\n",
       "      <td>1900</td>\n",
       "      <td>NW</td>\n",
       "      <td>9</td>\n",
       "      <td>Rain</td>\n",
       "      <td>2.0</td>\n",
       "      <td>2.0</td>\n",
       "      <td>0.0</td>\n",
       "      <td>0.0</td>\n",
       "      <td>0.0</td>\n",
       "      <td>0.0</td>\n",
       "      <td>False</td>\n",
       "      <td>False</td>\n",
       "      <td>-0.4205</td>\n",
       "      <td>-0.7085</td>\n",
       "      <td>-0.8004</td>\n",
       "      <td>-0.7169</td>\n",
       "      <td>0.8653</td>\n",
       "      <td>0.8088</td>\n",
       "      <td>0.7336</td>\n",
       "      <td>0.3768</td>\n",
       "      <td>0.3579</td>\n",
       "      <td>0.2552</td>\n",
       "      <td>0.8597</td>\n",
       "      <td>0.5969</td>\n",
       "      <td>0.5308</td>\n",
       "      <td>0.0451</td>\n",
       "      <td>-0.8994</td>\n",
       "      <td>-0.4796</td>\n",
       "      <td>8.697846</td>\n",
       "    </tr>\n",
       "    <tr>\n",
       "      <td>819</td>\n",
       "      <td>5</td>\n",
       "      <td>2014</td>\n",
       "      <td>12</td>\n",
       "      <td>19</td>\n",
       "      <td>False</td>\n",
       "      <td>2</td>\n",
       "      <td>0</td>\n",
       "      <td>a</td>\n",
       "      <td>c</td>\n",
       "      <td>#na#</td>\n",
       "      <td>2014</td>\n",
       "      <td>1900</td>\n",
       "      <td>SH</td>\n",
       "      <td>51</td>\n",
       "      <td>Rain</td>\n",
       "      <td>1.0</td>\n",
       "      <td>5.0</td>\n",
       "      <td>1.0</td>\n",
       "      <td>0.0</td>\n",
       "      <td>4.0</td>\n",
       "      <td>0.0</td>\n",
       "      <td>False</td>\n",
       "      <td>False</td>\n",
       "      <td>-0.6063</td>\n",
       "      <td>-0.3478</td>\n",
       "      <td>-0.2366</td>\n",
       "      <td>-0.2438</td>\n",
       "      <td>0.4717</td>\n",
       "      <td>0.8854</td>\n",
       "      <td>0.8864</td>\n",
       "      <td>0.7097</td>\n",
       "      <td>1.8672</td>\n",
       "      <td>-0.3604</td>\n",
       "      <td>0.2253</td>\n",
       "      <td>1.4616</td>\n",
       "      <td>1.2258</td>\n",
       "      <td>1.0000</td>\n",
       "      <td>1.1119</td>\n",
       "      <td>-0.4796</td>\n",
       "      <td>9.053335</td>\n",
       "    </tr>\n",
       "    <tr>\n",
       "      <td>280</td>\n",
       "      <td>4</td>\n",
       "      <td>2013</td>\n",
       "      <td>11</td>\n",
       "      <td>28</td>\n",
       "      <td>False</td>\n",
       "      <td>2</td>\n",
       "      <td>0</td>\n",
       "      <td>d</td>\n",
       "      <td>c</td>\n",
       "      <td>Mar,Jun,Sept,Dec</td>\n",
       "      <td>2013</td>\n",
       "      <td>2014</td>\n",
       "      <td>BW</td>\n",
       "      <td>48</td>\n",
       "      <td>Rain-Snow</td>\n",
       "      <td>3.0</td>\n",
       "      <td>1.0</td>\n",
       "      <td>0.0</td>\n",
       "      <td>0.0</td>\n",
       "      <td>0.0</td>\n",
       "      <td>0.0</td>\n",
       "      <td>False</td>\n",
       "      <td>False</td>\n",
       "      <td>1.6902</td>\n",
       "      <td>-1.5504</td>\n",
       "      <td>-1.6462</td>\n",
       "      <td>-1.6632</td>\n",
       "      <td>0.8653</td>\n",
       "      <td>0.8088</td>\n",
       "      <td>0.9373</td>\n",
       "      <td>-1.6206</td>\n",
       "      <td>-1.4869</td>\n",
       "      <td>0.8708</td>\n",
       "      <td>0.5878</td>\n",
       "      <td>1.1373</td>\n",
       "      <td>-0.3538</td>\n",
       "      <td>0.3531</td>\n",
       "      <td>-0.8994</td>\n",
       "      <td>-0.4796</td>\n",
       "      <td>8.641709</td>\n",
       "    </tr>\n",
       "  </tbody>\n",
       "</table>"
      ],
      "text/plain": [
       "<IPython.core.display.HTML object>"
      ]
     },
     "metadata": {},
     "output_type": "display_data"
    }
   ],
   "source": [
    "data.show_batch()"
   ]
  },
  {
   "cell_type": "code",
   "execution_count": null,
   "metadata": {},
   "outputs": [],
   "source": []
  }
 ],
 "metadata": {
  "kernelspec": {
   "display_name": "Python 3",
   "language": "python",
   "name": "python3"
  },
  "language_info": {
   "codemirror_mode": {
    "name": "ipython",
    "version": 3
   },
   "file_extension": ".py",
   "mimetype": "text/x-python",
   "name": "python",
   "nbconvert_exporter": "python",
   "pygments_lexer": "ipython3",
   "version": "3.7.1"
  }
 },
 "nbformat": 4,
 "nbformat_minor": 2
}
